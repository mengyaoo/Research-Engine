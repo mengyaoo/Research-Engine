{
 "cells": [
  {
   "cell_type": "code",
   "execution_count": 3,
   "metadata": {},
   "outputs": [],
   "source": [
    "import numpy as np\n",
    "import pandas as pd\n",
    "import email\n",
    "import codecs\n",
    "import re\n",
    "from email.message import EmailMessage\n",
    "from email.parser import BytesParser, Parser\n",
    "from email.policy import default\n",
    "import smtplib\n",
    "import bs4\n",
    "\n",
    "from bs4 import BeautifulSoup\n",
    "from sklearn.model_selection import train_test_split\n",
    "from sklearn.feature_extraction.text import CountVectorizer\n",
    "from sklearn.naive_bayes import MultinomialNB\n",
    "from sklearn.metrics import confusion_matrix\n",
    "from sklearn.metrics import roc_auc_score,roc_curve\n",
    "from sklearn.model_selection import cross_val_score"
   ]
  },
  {
   "cell_type": "code",
   "execution_count": 8,
   "metadata": {},
   "outputs": [],
   "source": [
    "dir_path = './trec05p-1/'\n",
    "df = pd.read_csv(dir_path+'full/index',sep=' ',names=['spam','path'])\n",
    "paths = df.path.apply(lambda x:'./trec05p-1'+x[2:])\n",
    "email_id = df.path.apply(lambda x:x[8:]) \n",
    "spam = df.spam.apply(lambda x:1 if x=='spam' else 0)"
   ]
  },
  {
   "cell_type": "code",
   "execution_count": 79,
   "metadata": {},
   "outputs": [],
   "source": [
    "def getContent(path):\n",
    "    raw_email = codecs.open(path, encoding='latin-1', errors='ignore').read()\n",
    "    msg = email.message_from_string(raw_email)  \n",
    "\n",
    "    subject = msg['subject']\n",
    "    if msg.is_multipart():\n",
    "        parts = 0\n",
    "        attachments = 0\n",
    "        body = ''\n",
    "        links = 0\n",
    "        for part in msg.walk():\n",
    "            parts += 1        \n",
    "            ctype = part.get_content_type()\n",
    "            if ctype == 'text/html':\n",
    "                html = 1\n",
    "            else:\n",
    "                html = 0        \n",
    "            if 'attachment' in str(part.get('Content-Disposition')).lower():\n",
    "                attachments += 1\n",
    "            if (ctype == 'text/html') | (ctype == 'text/plain'):\n",
    "                soup = bs4.BeautifulSoup(str(part), 'html.parser')\n",
    "                body = soup.get_text().replace(',',' ')\n",
    "                links += len(soup.find_all(\"a\"))\n",
    "                pattern = 'http://'\n",
    "                string = body\n",
    "                links += len(re.findall(pattern,string))\n",
    "\n",
    "    else:\n",
    "        parts = 1\n",
    "        links = 0\n",
    "        body = msg.get_payload().replace(',',' ')\n",
    "        if msg.get_content_type() == 'text/html':\n",
    "            html = 1\n",
    "        else:\n",
    "            html = 0\n",
    "        attachments = 0\n",
    "        if html == 1:\n",
    "            soup = bs4.BeautifulSoup(str(body), 'html.parser')\n",
    "            body = soup.get_text() \n",
    "            links += len(soup.find_all(\"a\"))\n",
    "        pattern = 'http://'\n",
    "        string = body\n",
    "        links += len(re.findall(pattern,string))\n",
    "    row = [parts,attachments,html,subject,body.replace('\\n',''),links]  \n",
    "  \n",
    "    return row\n"
   ]
  },
  {
   "cell_type": "code",
   "execution_count": null,
   "metadata": {},
   "outputs": [],
   "source": [
    "DataTable = pd.DataFrame(np.zeros(shape=(len(email_id),8)),columns=['email_id','parts','attachments','html','subject','body','links','spam'])\n",
    "for i in range(len(paths)):\n",
    "    p = paths[i]\n",
    "    row = [email_id[i]] + getContent(p) + [spam[i]]\n",
    "    DataTable.loc[i,:] = row"
   ]
  },
  {
   "cell_type": "code",
   "execution_count": null,
   "metadata": {},
   "outputs": [],
   "source": [
    "DataTable"
   ]
  },
  {
   "cell_type": "code",
   "execution_count": null,
   "metadata": {},
   "outputs": [],
   "source": [
    "df = DataTable"
   ]
  },
  {
   "cell_type": "code",
   "execution_count": 10,
   "metadata": {},
   "outputs": [],
   "source": [
    "df = pd.read_csv('emails_05_2.csv').loc[:50000,:]"
   ]
  },
  {
   "cell_type": "code",
   "execution_count": 7,
   "metadata": {},
   "outputs": [],
   "source": [
    "DataTable.to_csv('emails_05.csv')"
   ]
  },
  {
   "cell_type": "code",
   "execution_count": 8,
   "metadata": {},
   "outputs": [],
   "source": [
    "df.to_csv('emails_05_.csv')"
   ]
  },
  {
   "cell_type": "code",
   "execution_count": 9,
   "metadata": {},
   "outputs": [
    {
     "data": {
      "text/html": [
       "<div>\n",
       "<style scoped>\n",
       "    .dataframe tbody tr th:only-of-type {\n",
       "        vertical-align: middle;\n",
       "    }\n",
       "\n",
       "    .dataframe tbody tr th {\n",
       "        vertical-align: top;\n",
       "    }\n",
       "\n",
       "    .dataframe thead th {\n",
       "        text-align: right;\n",
       "    }\n",
       "</style>\n",
       "<table border=\"1\" class=\"dataframe\">\n",
       "  <thead>\n",
       "    <tr style=\"text-align: right;\">\n",
       "      <th></th>\n",
       "      <th>email_id</th>\n",
       "      <th>parts</th>\n",
       "      <th>attachments</th>\n",
       "      <th>html</th>\n",
       "      <th>subject</th>\n",
       "      <th>body</th>\n",
       "      <th>links</th>\n",
       "      <th>spam</th>\n",
       "    </tr>\n",
       "  </thead>\n",
       "  <tbody>\n",
       "    <tr>\n",
       "      <td>0</td>\n",
       "      <td>000/000</td>\n",
       "      <td>1.0</td>\n",
       "      <td>0.0</td>\n",
       "      <td>0.0</td>\n",
       "      <td>FW: June 29 -- BNA, Inc. Daily Labor Report</td>\n",
       "      <td>User ID:  enrondlrPW:        bnaweb22 -----Ori...</td>\n",
       "      <td>41.0</td>\n",
       "      <td>0.0</td>\n",
       "    </tr>\n",
       "    <tr>\n",
       "      <td>1</td>\n",
       "      <td>000/001</td>\n",
       "      <td>1.0</td>\n",
       "      <td>0.0</td>\n",
       "      <td>0.0</td>\n",
       "      <td>NGX failover plan.</td>\n",
       "      <td>Hi Chris,  Tonight we are rolling out a new re...</td>\n",
       "      <td>0.0</td>\n",
       "      <td>0.0</td>\n",
       "    </tr>\n",
       "    <tr>\n",
       "      <td>2</td>\n",
       "      <td>000/002</td>\n",
       "      <td>1.0</td>\n",
       "      <td>0.0</td>\n",
       "      <td>0.0</td>\n",
       "      <td>RE: Intranet Site</td>\n",
       "      <td>Rika r these new? -----Original Message-----Fr...</td>\n",
       "      <td>3.0</td>\n",
       "      <td>0.0</td>\n",
       "    </tr>\n",
       "    <tr>\n",
       "      <td>3</td>\n",
       "      <td>000/003</td>\n",
       "      <td>1.0</td>\n",
       "      <td>0.0</td>\n",
       "      <td>0.0</td>\n",
       "      <td>FW: ENA Upstream Company information</td>\n",
       "      <td>John/Gerald,We are currently trading under GTC...</td>\n",
       "      <td>0.0</td>\n",
       "      <td>0.0</td>\n",
       "    </tr>\n",
       "    <tr>\n",
       "      <td>4</td>\n",
       "      <td>000/004</td>\n",
       "      <td>1.0</td>\n",
       "      <td>0.0</td>\n",
       "      <td>0.0</td>\n",
       "      <td>New Master Physical</td>\n",
       "      <td>Gerald and Stacy -Attached is a worksheet for ...</td>\n",
       "      <td>0.0</td>\n",
       "      <td>0.0</td>\n",
       "    </tr>\n",
       "    <tr>\n",
       "      <td>...</td>\n",
       "      <td>...</td>\n",
       "      <td>...</td>\n",
       "      <td>...</td>\n",
       "      <td>...</td>\n",
       "      <td>...</td>\n",
       "      <td>...</td>\n",
       "      <td>...</td>\n",
       "      <td>...</td>\n",
       "    </tr>\n",
       "    <tr>\n",
       "      <td>92184</td>\n",
       "      <td>307/086</td>\n",
       "      <td>3.0</td>\n",
       "      <td>0.0</td>\n",
       "      <td>1.0</td>\n",
       "      <td>=?gb2312?B?c2hvZXMgZnJvbSB3d3cubG92ZWluZmFzaGl...</td>\n",
       "      <td>Content-Type: text/html;\\tcharset=\"GB2312\"Cont...</td>\n",
       "      <td>0.0</td>\n",
       "      <td>1.0</td>\n",
       "    </tr>\n",
       "    <tr>\n",
       "      <td>92185</td>\n",
       "      <td>307/087</td>\n",
       "      <td>3.0</td>\n",
       "      <td>0.0</td>\n",
       "      <td>1.0</td>\n",
       "      <td>=?gb2312?B?c2hvZXMgZnJvbSB3d3cubG92ZWluZmFzaGl...</td>\n",
       "      <td>Content-Type: text/html;\\tcharset=\"GB2312\"Cont...</td>\n",
       "      <td>0.0</td>\n",
       "      <td>1.0</td>\n",
       "    </tr>\n",
       "    <tr>\n",
       "      <td>92186</td>\n",
       "      <td>307/088</td>\n",
       "      <td>3.0</td>\n",
       "      <td>0.0</td>\n",
       "      <td>1.0</td>\n",
       "      <td>=?gb2312?B?c2hvZXMgZnJvbSB3d3cubG92ZWluZmFzaGl...</td>\n",
       "      <td>Content-Type: text/html;\\tcharset=\"GB2312\"Cont...</td>\n",
       "      <td>0.0</td>\n",
       "      <td>1.0</td>\n",
       "    </tr>\n",
       "    <tr>\n",
       "      <td>92187</td>\n",
       "      <td>307/089</td>\n",
       "      <td>3.0</td>\n",
       "      <td>0.0</td>\n",
       "      <td>1.0</td>\n",
       "      <td>=?gb2312?B?c2hvZXMgZnJvbSB3d3cubG92ZWluZmFzaGl...</td>\n",
       "      <td>Content-Type: text/html;\\tcharset=\"GB2312\"Cont...</td>\n",
       "      <td>0.0</td>\n",
       "      <td>1.0</td>\n",
       "    </tr>\n",
       "    <tr>\n",
       "      <td>92188</td>\n",
       "      <td>307/090</td>\n",
       "      <td>3.0</td>\n",
       "      <td>0.0</td>\n",
       "      <td>1.0</td>\n",
       "      <td>=?gb2312?B?c2hvZXMgZnJvbSB3d3cubG92ZWluZmFzaGl...</td>\n",
       "      <td>Content-Type: text/html;\\tcharset=\"GB2312\"Cont...</td>\n",
       "      <td>0.0</td>\n",
       "      <td>1.0</td>\n",
       "    </tr>\n",
       "  </tbody>\n",
       "</table>\n",
       "<p>92189 rows × 8 columns</p>\n",
       "</div>"
      ],
      "text/plain": [
       "      email_id  parts  attachments  html  \\\n",
       "0      000/000    1.0          0.0   0.0   \n",
       "1      000/001    1.0          0.0   0.0   \n",
       "2      000/002    1.0          0.0   0.0   \n",
       "3      000/003    1.0          0.0   0.0   \n",
       "4      000/004    1.0          0.0   0.0   \n",
       "...        ...    ...          ...   ...   \n",
       "92184  307/086    3.0          0.0   1.0   \n",
       "92185  307/087    3.0          0.0   1.0   \n",
       "92186  307/088    3.0          0.0   1.0   \n",
       "92187  307/089    3.0          0.0   1.0   \n",
       "92188  307/090    3.0          0.0   1.0   \n",
       "\n",
       "                                                 subject  \\\n",
       "0            FW: June 29 -- BNA, Inc. Daily Labor Report   \n",
       "1                                     NGX failover plan.   \n",
       "2                                      RE: Intranet Site   \n",
       "3                   FW: ENA Upstream Company information   \n",
       "4                                    New Master Physical   \n",
       "...                                                  ...   \n",
       "92184  =?gb2312?B?c2hvZXMgZnJvbSB3d3cubG92ZWluZmFzaGl...   \n",
       "92185  =?gb2312?B?c2hvZXMgZnJvbSB3d3cubG92ZWluZmFzaGl...   \n",
       "92186  =?gb2312?B?c2hvZXMgZnJvbSB3d3cubG92ZWluZmFzaGl...   \n",
       "92187  =?gb2312?B?c2hvZXMgZnJvbSB3d3cubG92ZWluZmFzaGl...   \n",
       "92188  =?gb2312?B?c2hvZXMgZnJvbSB3d3cubG92ZWluZmFzaGl...   \n",
       "\n",
       "                                                    body  links  spam  \n",
       "0      User ID:  enrondlrPW:        bnaweb22 -----Ori...   41.0   0.0  \n",
       "1      Hi Chris,  Tonight we are rolling out a new re...    0.0   0.0  \n",
       "2      Rika r these new? -----Original Message-----Fr...    3.0   0.0  \n",
       "3      John/Gerald,We are currently trading under GTC...    0.0   0.0  \n",
       "4      Gerald and Stacy -Attached is a worksheet for ...    0.0   0.0  \n",
       "...                                                  ...    ...   ...  \n",
       "92184  Content-Type: text/html;\\tcharset=\"GB2312\"Cont...    0.0   1.0  \n",
       "92185  Content-Type: text/html;\\tcharset=\"GB2312\"Cont...    0.0   1.0  \n",
       "92186  Content-Type: text/html;\\tcharset=\"GB2312\"Cont...    0.0   1.0  \n",
       "92187  Content-Type: text/html;\\tcharset=\"GB2312\"Cont...    0.0   1.0  \n",
       "92188  Content-Type: text/html;\\tcharset=\"GB2312\"Cont...    0.0   1.0  \n",
       "\n",
       "[92189 rows x 8 columns]"
      ]
     },
     "execution_count": 9,
     "metadata": {},
     "output_type": "execute_result"
    }
   ],
   "source": [
    "df"
   ]
  },
  {
   "cell_type": "code",
   "execution_count": 11,
   "metadata": {},
   "outputs": [],
   "source": [
    "seed=100\n",
    "np.random.seed(seed)\n",
    "x_train, x_val, y_train, y_val = train_test_split(df, spam, train_size = 0.85)\n"
   ]
  },
  {
   "cell_type": "markdown",
   "metadata": {},
   "source": [
    "# Structural Information Model\n"
   ]
  },
  {
   "cell_type": "code",
   "execution_count": 11,
   "metadata": {
    "scrolled": true
   },
   "outputs": [
    {
     "name": "stderr",
     "output_type": "stream",
     "text": [
      "/Users/mengyao/opt/anaconda3/lib/python3.7/site-packages/pandas/core/indexing.py:494: SettingWithCopyWarning: \n",
      "A value is trying to be set on a copy of a slice from a DataFrame.\n",
      "Try using .loc[row_indexer,col_indexer] = value instead\n",
      "\n",
      "See the caveats in the documentation: http://pandas.pydata.org/pandas-docs/stable/user_guide/indexing.html#returning-a-view-versus-a-copy\n",
      "  self.obj[item] = s\n"
     ]
    }
   ],
   "source": [
    "x_train.loc[x_train.loc[:,'links'] != 0,'links'] = 1\n",
    "x_train.loc[x_train.loc[:,'parts'] == 1,'parts'] = 0\n",
    "x_train.loc[x_train.loc[:,'parts'] != 0,'parts'] = 1\n",
    "train = x_train.loc[:,['parts','html','links','attachments']]"
   ]
  },
  {
   "cell_type": "code",
   "execution_count": 12,
   "metadata": {},
   "outputs": [],
   "source": [
    "x_val.loc[x_val.loc[:,'links'] != 0,'links'] = 1\n",
    "x_val.loc[x_val.loc[:,'parts'] == 1,'parts'] = 0\n",
    "x_val.loc[x_val.loc[:,'parts'] != 0,'parts'] = 1\n",
    "val = x_val.loc[:,['parts','html','links','attachments']]"
   ]
  },
  {
   "cell_type": "code",
   "execution_count": 13,
   "metadata": {},
   "outputs": [
    {
     "data": {
      "text/plain": [
       "(0.5898289943848902, 0.5898474220840263)"
      ]
     },
     "execution_count": 13,
     "metadata": {},
     "output_type": "execute_result"
    }
   ],
   "source": [
    "model = MultinomialNB()\n",
    "model.fit(train, y_train)\n",
    "np.mean(model.predict(train) == y_train), np.mean(model.predict(val) == y_val)"
   ]
  },
  {
   "cell_type": "code",
   "execution_count": 18,
   "metadata": {},
   "outputs": [
    {
     "name": "stdout",
     "output_type": "stream",
     "text": [
      "AUC 0.6607159202084851\n"
     ]
    }
   ],
   "source": [
    "score1 = cross_val_score(model,train,y_train,cv=5,scoring='roc_auc')\n",
    "auc1=score1.mean()\n",
    "print(\"AUC\",auc1)"
   ]
  },
  {
   "cell_type": "markdown",
   "metadata": {},
   "source": [
    "# Subject Model"
   ]
  },
  {
   "cell_type": "code",
   "execution_count": 20,
   "metadata": {
    "scrolled": true
   },
   "outputs": [
    {
     "data": {
      "text/plain": [
       "0.9397269014803471"
      ]
     },
     "execution_count": 20,
     "metadata": {},
     "output_type": "execute_result"
    }
   ],
   "source": [
    "cv = CountVectorizer()\n",
    "train2 = cv.fit_transform(np.array([' ' if x is None else x.lower() for x in x_train.loc[:,'subject']]))\n",
    "val2 = cv.transform(np.array([' ' if x is None else x.lower() for x in x_val.loc[:,'subject']]))\n",
    "\n",
    "model = MultinomialNB()\n",
    "model.fit(train2, y_train)\n",
    "np.mean(model.predict(train2) == y_train)\n",
    "\n"
   ]
  },
  {
   "cell_type": "code",
   "execution_count": 21,
   "metadata": {},
   "outputs": [
    {
     "data": {
      "text/plain": [
       "0.9247234073324174"
      ]
     },
     "execution_count": 21,
     "metadata": {},
     "output_type": "execute_result"
    }
   ],
   "source": [
    "y_pred2 = model.predict(val2)\n",
    "accuracy = np.mean(y_pred2 == y_val)\n",
    "accuracy"
   ]
  },
  {
   "cell_type": "code",
   "execution_count": 22,
   "metadata": {},
   "outputs": [
    {
     "name": "stdout",
     "output_type": "stream",
     "text": [
      "AUC 0.981325165265407\n"
     ]
    }
   ],
   "source": [
    "score2 = cross_val_score(model,train2,y_train,cv=5,scoring='roc_auc')\n",
    "auc2=score2.mean()\n",
    "print(\"AUC\",auc2)"
   ]
  },
  {
   "cell_type": "markdown",
   "metadata": {},
   "source": [
    "# Message Body Model"
   ]
  },
  {
   "cell_type": "code",
   "execution_count": 23,
   "metadata": {},
   "outputs": [
    {
     "data": {
      "text/plain": [
       "0.9407095456865748"
      ]
     },
     "execution_count": 23,
     "metadata": {},
     "output_type": "execute_result"
    }
   ],
   "source": [
    "cv = CountVectorizer()\n",
    "train3 = cv.fit_transform(np.array(x_train.loc[:,'body']))\n",
    "val3 = cv.transform(np.array(x_val.loc[:,'body']))\n",
    "\n",
    "model = MultinomialNB()\n",
    "model.fit(train3, y_train)\n",
    "np.mean(model.predict(train3) == y_train)"
   ]
  },
  {
   "cell_type": "code",
   "execution_count": 24,
   "metadata": {},
   "outputs": [
    {
     "data": {
      "text/plain": [
       "0.9320992118012872"
      ]
     },
     "execution_count": 24,
     "metadata": {},
     "output_type": "execute_result"
    }
   ],
   "source": [
    "y_pred3 = model.predict(val3)\n",
    "accuracy3 = np.mean(y_pred3 == y_val)\n",
    "accuracy3"
   ]
  },
  {
   "cell_type": "code",
   "execution_count": 25,
   "metadata": {},
   "outputs": [
    {
     "name": "stdout",
     "output_type": "stream",
     "text": [
      "AUC 0.9813615204632196\n"
     ]
    }
   ],
   "source": [
    "score3 = cross_val_score(model,train3,y_train,cv=5,scoring='roc_auc')\n",
    "auc3=score3.mean()\n",
    "print(\"AUC\",auc3)"
   ]
  },
  {
   "cell_type": "markdown",
   "metadata": {},
   "source": [
    "# Own Model"
   ]
  },
  {
   "cell_type": "code",
   "execution_count": 14,
   "metadata": {},
   "outputs": [
    {
     "name": "stdout",
     "output_type": "stream",
     "text": [
      "train accuracy 0.8128470588235294\n"
     ]
    }
   ],
   "source": [
    "from sklearn.naive_bayes import GaussianNB\n",
    "gaussian_model=GaussianNB()\n",
    "#train4 = cv.fit_transform(np.array(x_train.loc[:,'body']))\n",
    "#val4 = cv.transform(np.array(x_val.loc[:,'body']))\n",
    "gaussian_model.fit(train,y_train)\n",
    "\n",
    "train_acc=np.mean(gaussian_model.predict(train)==y_train)\n",
    "print(\"train accuracy\",train_acc)\n"
   ]
  },
  {
   "cell_type": "code",
   "execution_count": 16,
   "metadata": {},
   "outputs": [
    {
     "name": "stdout",
     "output_type": "stream",
     "text": [
      "AUC 0.8625554972482499\n"
     ]
    }
   ],
   "source": [
    "score4 = cross_val_score(gaussian_model,train,y_train,cv=5,scoring='roc_auc')\n",
    "auc4=score4.mean()\n",
    "print(\"AUC\",auc4)"
   ]
  },
  {
   "cell_type": "markdown",
   "metadata": {},
   "source": [
    "# Combined Model"
   ]
  },
  {
   "cell_type": "code",
   "execution_count": null,
   "metadata": {},
   "outputs": [],
   "source": [
    "cv = CountVectorizer()\n",
    "train_subject = pd.DataFrame([' ' if x is None else x for x in df.loc[:,'subject']])\n",
    "train5 = cv.fit_transform(np.array(train_subject+ ' '+x_train.loc[:,'body']))\n",
    "\n",
    "model = MultinomialNB()\n",
    "model.fit(train5, y_train)\n",
    "np.mean(model.predict(train5) == y_train)\n"
   ]
  },
  {
   "cell_type": "code",
   "execution_count": null,
   "metadata": {},
   "outputs": [],
   "source": [
    "y_pred5 = model.predict(val5)\n",
    "accuracy5 = np.mean(y_pred5 == y_val)\n",
    "accuracy5"
   ]
  },
  {
   "cell_type": "code",
   "execution_count": null,
   "metadata": {},
   "outputs": [],
   "source": [
    "score5 = cross_val_score(model,train5,y_train,cv=5,scoring='roc_auc')\n",
    "auc5=score5.mean()\n",
    "print(\"AUC\",auc5)"
   ]
  },
  {
   "cell_type": "markdown",
   "metadata": {},
   "source": [
    "# Select Model"
   ]
  },
  {
   "cell_type": "markdown",
   "metadata": {},
   "source": [
    "By the AUC we calculated above, the Combined Model has the best performance "
   ]
  },
  {
   "cell_type": "code",
   "execution_count": 18,
   "metadata": {},
   "outputs": [],
   "source": [
    "spam =spam[0:50001]"
   ]
  },
  {
   "cell_type": "code",
   "execution_count": 19,
   "metadata": {},
   "outputs": [
    {
     "name": "stdout",
     "output_type": "stream",
     "text": [
      "Structural Information Model AUC 0.6062716361513727\n"
     ]
    }
   ],
   "source": [
    "#structual\n",
    "df.loc[df.loc[:,'links'] != 0,'links'] = 1\n",
    "df.loc[df.loc[:,'parts'] == 1,'parts'] = 0\n",
    "df.loc[df.loc[:,'parts'] != 0,'parts'] = 1\n",
    "data_stru = df.loc[:,['parts','html','links','attachments']]\n",
    "\n",
    "model = MultinomialNB()\n",
    "model.fit(data_stru, spam)\n",
    "score1 = cross_val_score(model,data_stru,spam,cv=5,scoring='roc_auc')\n",
    "auc1=score1.mean()\n",
    "print(\"Structural Information Model AUC\",auc1)"
   ]
  },
  {
   "cell_type": "code",
   "execution_count": 21,
   "metadata": {},
   "outputs": [
    {
     "data": {
      "text/plain": [
       "Text(0, 0.5, 'True Positive Rate')"
      ]
     },
     "execution_count": 21,
     "metadata": {},
     "output_type": "execute_result"
    },
    {
     "data": {
      "image/png": "[encoded data removed]",
      "text/plain": [
       "<Figure size 432x288 with 1 Axes>"
      ]
     },
     "metadata": {
      "needs_background": "light"
     },
     "output_type": "display_data"
    }
   ],
   "source": [
    "import matplotlib.pyplot as plt\n",
    "\n",
    "%matplotlib inline\n",
    "\n",
    "set_prob=model.predict_proba(data_stru)[:,1]\n",
    "set_fpr,set_tpr,set_threshold=roc_curve(spam,set_prob)\n",
    "plt.plot(set_fpr,set_tpr)\n",
    "plt.xlabel(\"False Positive Rate\")\n",
    "plt.ylabel(\"True Positive Rate\")"
   ]
  },
  {
   "cell_type": "code",
   "execution_count": 23,
   "metadata": {},
   "outputs": [
    {
     "ename": "AttributeError",
     "evalue": "'float' object has no attribute 'lower'",
     "output_type": "error",
     "traceback": [
      "\u001b[0;31m---------------------------------------------------------------------------\u001b[0m",
      "\u001b[0;31mAttributeError\u001b[0m                            Traceback (most recent call last)",
      "\u001b[0;32m<ipython-input-23-10e8fdc5ea72>\u001b[0m in \u001b[0;36m<module>\u001b[0;34m\u001b[0m\n\u001b[1;32m      1\u001b[0m \u001b[0;31m#subject\u001b[0m\u001b[0;34m\u001b[0m\u001b[0;34m\u001b[0m\u001b[0;34m\u001b[0m\u001b[0m\n\u001b[1;32m      2\u001b[0m \u001b[0mcv\u001b[0m \u001b[0;34m=\u001b[0m \u001b[0mCountVectorizer\u001b[0m\u001b[0;34m(\u001b[0m\u001b[0;34m)\u001b[0m\u001b[0;34m\u001b[0m\u001b[0;34m\u001b[0m\u001b[0m\n\u001b[0;32m----> 3\u001b[0;31m \u001b[0mdata\u001b[0m \u001b[0;34m=\u001b[0m \u001b[0mcv\u001b[0m\u001b[0;34m.\u001b[0m\u001b[0mtransform\u001b[0m\u001b[0;34m(\u001b[0m\u001b[0mnp\u001b[0m\u001b[0;34m.\u001b[0m\u001b[0marray\u001b[0m\u001b[0;34m(\u001b[0m\u001b[0;34m[\u001b[0m\u001b[0;34m' '\u001b[0m \u001b[0;32mif\u001b[0m \u001b[0mx\u001b[0m \u001b[0;32mis\u001b[0m \u001b[0;32mNone\u001b[0m \u001b[0;32melse\u001b[0m \u001b[0mx\u001b[0m\u001b[0;34m.\u001b[0m\u001b[0mlower\u001b[0m\u001b[0;34m(\u001b[0m\u001b[0;34m)\u001b[0m \u001b[0;32mfor\u001b[0m \u001b[0mx\u001b[0m \u001b[0;32min\u001b[0m \u001b[0mdf\u001b[0m\u001b[0;34m.\u001b[0m\u001b[0mloc\u001b[0m\u001b[0;34m[\u001b[0m\u001b[0;34m:\u001b[0m\u001b[0;34m,\u001b[0m\u001b[0;34m'subject'\u001b[0m\u001b[0;34m]\u001b[0m\u001b[0;34m]\u001b[0m\u001b[0;34m)\u001b[0m\u001b[0;34m)\u001b[0m\u001b[0;34m\u001b[0m\u001b[0;34m\u001b[0m\u001b[0m\n\u001b[0m\u001b[1;32m      4\u001b[0m \u001b[0;34m\u001b[0m\u001b[0m\n\u001b[1;32m      5\u001b[0m \u001b[0mmodel\u001b[0m \u001b[0;34m=\u001b[0m \u001b[0mMultinomialNB\u001b[0m\u001b[0;34m(\u001b[0m\u001b[0;34m)\u001b[0m\u001b[0;34m\u001b[0m\u001b[0;34m\u001b[0m\u001b[0m\n",
      "\u001b[0;32m<ipython-input-23-10e8fdc5ea72>\u001b[0m in \u001b[0;36m<listcomp>\u001b[0;34m(.0)\u001b[0m\n\u001b[1;32m      1\u001b[0m \u001b[0;31m#subject\u001b[0m\u001b[0;34m\u001b[0m\u001b[0;34m\u001b[0m\u001b[0;34m\u001b[0m\u001b[0m\n\u001b[1;32m      2\u001b[0m \u001b[0mcv\u001b[0m \u001b[0;34m=\u001b[0m \u001b[0mCountVectorizer\u001b[0m\u001b[0;34m(\u001b[0m\u001b[0;34m)\u001b[0m\u001b[0;34m\u001b[0m\u001b[0;34m\u001b[0m\u001b[0m\n\u001b[0;32m----> 3\u001b[0;31m \u001b[0mdata\u001b[0m \u001b[0;34m=\u001b[0m \u001b[0mcv\u001b[0m\u001b[0;34m.\u001b[0m\u001b[0mtransform\u001b[0m\u001b[0;34m(\u001b[0m\u001b[0mnp\u001b[0m\u001b[0;34m.\u001b[0m\u001b[0marray\u001b[0m\u001b[0;34m(\u001b[0m\u001b[0;34m[\u001b[0m\u001b[0;34m' '\u001b[0m \u001b[0;32mif\u001b[0m \u001b[0mx\u001b[0m \u001b[0;32mis\u001b[0m \u001b[0;32mNone\u001b[0m \u001b[0;32melse\u001b[0m \u001b[0mx\u001b[0m\u001b[0;34m.\u001b[0m\u001b[0mlower\u001b[0m\u001b[0;34m(\u001b[0m\u001b[0;34m)\u001b[0m \u001b[0;32mfor\u001b[0m \u001b[0mx\u001b[0m \u001b[0;32min\u001b[0m \u001b[0mdf\u001b[0m\u001b[0;34m.\u001b[0m\u001b[0mloc\u001b[0m\u001b[0;34m[\u001b[0m\u001b[0;34m:\u001b[0m\u001b[0;34m,\u001b[0m\u001b[0;34m'subject'\u001b[0m\u001b[0;34m]\u001b[0m\u001b[0;34m]\u001b[0m\u001b[0;34m)\u001b[0m\u001b[0;34m)\u001b[0m\u001b[0;34m\u001b[0m\u001b[0;34m\u001b[0m\u001b[0m\n\u001b[0m\u001b[1;32m      4\u001b[0m \u001b[0;34m\u001b[0m\u001b[0m\n\u001b[1;32m      5\u001b[0m \u001b[0mmodel\u001b[0m \u001b[0;34m=\u001b[0m \u001b[0mMultinomialNB\u001b[0m\u001b[0;34m(\u001b[0m\u001b[0;34m)\u001b[0m\u001b[0;34m\u001b[0m\u001b[0;34m\u001b[0m\u001b[0m\n",
      "\u001b[0;31mAttributeError\u001b[0m: 'float' object has no attribute 'lower'"
     ]
    }
   ],
   "source": [
    "#subject\n",
    "cv = CountVectorizer()\n",
    "data = cv.fit_transform(np.array([' ' if x is None else x for x in df.loc[:,'subject']]))\n",
    "\n",
    "model = MultinomialNB()\n",
    "model.fit(data, y_train)\n",
    "\n",
    "score2 = cross_val_score(model,data,spam,cv=5,scoring='roc_auc')\n",
    "auc2=score2.mean()\n",
    "print(\"Subject Model AUC\",auc2)"
   ]
  },
  {
   "cell_type": "code",
   "execution_count": null,
   "metadata": {},
   "outputs": [],
   "source": [
    "set_prob=model.predict_proba(data)[:,1]\n",
    "set_fpr,set_tpr,set_threshold=roc_curve(spam,set_prob)\n",
    "plt.plot(set_fpr,set_tpr)\n",
    "plt.xlabel(\"False Positive Rate\")\n",
    "plt.ylabel(\"True Positive Rate\")"
   ]
  },
  {
   "cell_type": "code",
   "execution_count": 26,
   "metadata": {},
   "outputs": [
    {
     "ename": "ValueError",
     "evalue": "np.nan is an invalid document, expected byte or unicode string.",
     "output_type": "error",
     "traceback": [
      "\u001b[0;31m---------------------------------------------------------------------------\u001b[0m",
      "\u001b[0;31mValueError\u001b[0m                                Traceback (most recent call last)",
      "\u001b[0;32m<ipython-input-26-2f9d74e89b6a>\u001b[0m in \u001b[0;36m<module>\u001b[0;34m\u001b[0m\n\u001b[1;32m      1\u001b[0m \u001b[0;31m#body\u001b[0m\u001b[0;34m\u001b[0m\u001b[0;34m\u001b[0m\u001b[0;34m\u001b[0m\u001b[0m\n\u001b[1;32m      2\u001b[0m \u001b[0mcv\u001b[0m \u001b[0;34m=\u001b[0m \u001b[0mCountVectorizer\u001b[0m\u001b[0;34m(\u001b[0m\u001b[0;34m)\u001b[0m\u001b[0;34m\u001b[0m\u001b[0;34m\u001b[0m\u001b[0m\n\u001b[0;32m----> 3\u001b[0;31m \u001b[0mdata\u001b[0m \u001b[0;34m=\u001b[0m \u001b[0mcv\u001b[0m\u001b[0;34m.\u001b[0m\u001b[0mfit_transform\u001b[0m\u001b[0;34m(\u001b[0m\u001b[0mnp\u001b[0m\u001b[0;34m.\u001b[0m\u001b[0marray\u001b[0m\u001b[0;34m(\u001b[0m\u001b[0mdf\u001b[0m\u001b[0;34m.\u001b[0m\u001b[0mloc\u001b[0m\u001b[0;34m[\u001b[0m\u001b[0;34m:\u001b[0m\u001b[0;34m,\u001b[0m\u001b[0;34m'body'\u001b[0m\u001b[0;34m]\u001b[0m\u001b[0;34m)\u001b[0m\u001b[0;34m)\u001b[0m\u001b[0;34m\u001b[0m\u001b[0;34m\u001b[0m\u001b[0m\n\u001b[0m\u001b[1;32m      4\u001b[0m \u001b[0mmodel\u001b[0m \u001b[0;34m=\u001b[0m \u001b[0mMultinomialNB\u001b[0m\u001b[0;34m(\u001b[0m\u001b[0;34m)\u001b[0m\u001b[0;34m\u001b[0m\u001b[0;34m\u001b[0m\u001b[0m\n\u001b[1;32m      5\u001b[0m \u001b[0;34m\u001b[0m\u001b[0m\n",
      "\u001b[0;32m~/opt/anaconda3/lib/python3.7/site-packages/sklearn/feature_extraction/text.py\u001b[0m in \u001b[0;36mfit_transform\u001b[0;34m(self, raw_documents, y)\u001b[0m\n\u001b[1;32m   1056\u001b[0m \u001b[0;34m\u001b[0m\u001b[0m\n\u001b[1;32m   1057\u001b[0m         vocabulary, X = self._count_vocab(raw_documents,\n\u001b[0;32m-> 1058\u001b[0;31m                                           self.fixed_vocabulary_)\n\u001b[0m\u001b[1;32m   1059\u001b[0m \u001b[0;34m\u001b[0m\u001b[0m\n\u001b[1;32m   1060\u001b[0m         \u001b[0;32mif\u001b[0m \u001b[0mself\u001b[0m\u001b[0;34m.\u001b[0m\u001b[0mbinary\u001b[0m\u001b[0;34m:\u001b[0m\u001b[0;34m\u001b[0m\u001b[0;34m\u001b[0m\u001b[0m\n",
      "\u001b[0;32m~/opt/anaconda3/lib/python3.7/site-packages/sklearn/feature_extraction/text.py\u001b[0m in \u001b[0;36m_count_vocab\u001b[0;34m(self, raw_documents, fixed_vocab)\u001b[0m\n\u001b[1;32m    968\u001b[0m         \u001b[0;32mfor\u001b[0m \u001b[0mdoc\u001b[0m \u001b[0;32min\u001b[0m \u001b[0mraw_documents\u001b[0m\u001b[0;34m:\u001b[0m\u001b[0;34m\u001b[0m\u001b[0;34m\u001b[0m\u001b[0m\n\u001b[1;32m    969\u001b[0m             \u001b[0mfeature_counter\u001b[0m \u001b[0;34m=\u001b[0m \u001b[0;34m{\u001b[0m\u001b[0;34m}\u001b[0m\u001b[0;34m\u001b[0m\u001b[0;34m\u001b[0m\u001b[0m\n\u001b[0;32m--> 970\u001b[0;31m             \u001b[0;32mfor\u001b[0m \u001b[0mfeature\u001b[0m \u001b[0;32min\u001b[0m \u001b[0manalyze\u001b[0m\u001b[0;34m(\u001b[0m\u001b[0mdoc\u001b[0m\u001b[0;34m)\u001b[0m\u001b[0;34m:\u001b[0m\u001b[0;34m\u001b[0m\u001b[0;34m\u001b[0m\u001b[0m\n\u001b[0m\u001b[1;32m    971\u001b[0m                 \u001b[0;32mtry\u001b[0m\u001b[0;34m:\u001b[0m\u001b[0;34m\u001b[0m\u001b[0;34m\u001b[0m\u001b[0m\n\u001b[1;32m    972\u001b[0m                     \u001b[0mfeature_idx\u001b[0m \u001b[0;34m=\u001b[0m \u001b[0mvocabulary\u001b[0m\u001b[0;34m[\u001b[0m\u001b[0mfeature\u001b[0m\u001b[0;34m]\u001b[0m\u001b[0;34m\u001b[0m\u001b[0;34m\u001b[0m\u001b[0m\n",
      "\u001b[0;32m~/opt/anaconda3/lib/python3.7/site-packages/sklearn/feature_extraction/text.py\u001b[0m in \u001b[0;36m<lambda>\u001b[0;34m(doc)\u001b[0m\n\u001b[1;32m    350\u001b[0m                                                tokenize)\n\u001b[1;32m    351\u001b[0m             return lambda doc: self._word_ngrams(\n\u001b[0;32m--> 352\u001b[0;31m                 tokenize(preprocess(self.decode(doc))), stop_words)\n\u001b[0m\u001b[1;32m    353\u001b[0m \u001b[0;34m\u001b[0m\u001b[0m\n\u001b[1;32m    354\u001b[0m         \u001b[0;32melse\u001b[0m\u001b[0;34m:\u001b[0m\u001b[0;34m\u001b[0m\u001b[0;34m\u001b[0m\u001b[0m\n",
      "\u001b[0;32m~/opt/anaconda3/lib/python3.7/site-packages/sklearn/feature_extraction/text.py\u001b[0m in \u001b[0;36mdecode\u001b[0;34m(self, doc)\u001b[0m\n\u001b[1;32m    141\u001b[0m \u001b[0;34m\u001b[0m\u001b[0m\n\u001b[1;32m    142\u001b[0m         \u001b[0;32mif\u001b[0m \u001b[0mdoc\u001b[0m \u001b[0;32mis\u001b[0m \u001b[0mnp\u001b[0m\u001b[0;34m.\u001b[0m\u001b[0mnan\u001b[0m\u001b[0;34m:\u001b[0m\u001b[0;34m\u001b[0m\u001b[0;34m\u001b[0m\u001b[0m\n\u001b[0;32m--> 143\u001b[0;31m             raise ValueError(\"np.nan is an invalid document, expected byte or \"\n\u001b[0m\u001b[1;32m    144\u001b[0m                              \"unicode string.\")\n\u001b[1;32m    145\u001b[0m \u001b[0;34m\u001b[0m\u001b[0m\n",
      "\u001b[0;31mValueError\u001b[0m: np.nan is an invalid document, expected byte or unicode string."
     ]
    }
   ],
   "source": [
    "#body\n",
    "cv = CountVectorizer()\n",
    "data = cv.fit_transform(np.array(df.loc[:,'body']))\n",
    "model = MultinomialNB()\n",
    "\n",
    "score3 = cross_val_score(model,data,spam,cv=5,scoring='roc_auc')\n",
    "auc3=score3.mean()\n",
    "print(\"Body Model AUC\",auc3)"
   ]
  },
  {
   "cell_type": "code",
   "execution_count": null,
   "metadata": {},
   "outputs": [],
   "source": [
    "set_prob=model.predict_proba(data)[:,1]\n",
    "set_fpr,set_tpr,set_threshold=roc_curve(spam,set_prob)\n",
    "plt.plot(set_fpr,set_tpr)\n",
    "plt.xlabel(\"False Positive Rate\")\n",
    "plt.ylabel(\"True Positive Rate\")"
   ]
  },
  {
   "cell_type": "code",
   "execution_count": null,
   "metadata": {},
   "outputs": [],
   "source": [
    "#Combined\n",
    "cv = CountVectorizer()\n",
    "train_subject = pd.DataFrame([' ' if x is None else x.lower() for x in df.loc[:,'subject']])\n",
    "data = cv.fit_transform(np.array(train_subject+ ' '+df.loc[:,'body']))\n",
    "\n",
    "model = MultinomialNB()\n",
    "model.fit(data, spam)\n",
    "\n",
    "score5 = cross_val_score(model,data,spam,cv=5,scoring='roc_auc')\n",
    "auc5=score5.mean()\n",
    "print(\"Combined Model AUC\",auc5)"
   ]
  },
  {
   "cell_type": "code",
   "execution_count": null,
   "metadata": {},
   "outputs": [],
   "source": [
    "set_prob=model.predict_proba(data)[:,1]\n",
    "set_fpr,set_tpr,set_threshold=roc_curve(spam,set_prob)\n",
    "plt.plot(set_fpr,set_tpr)\n",
    "plt.xlabel(\"False Positive Rate\")\n",
    "plt.ylabel(\"True Positive Rate\")"
   ]
  },
  {
   "cell_type": "markdown",
   "metadata": {},
   "source": [
    "# TREC 2006 Analysis"
   ]
  },
  {
   "cell_type": "code",
   "execution_count": 75,
   "metadata": {},
   "outputs": [],
   "source": [
    "dir_path06 = './trec06p/'\n",
    "df06 = pd.read_csv(dir_path06+'full/index',sep=' ',names=['spam','path'])\n",
    "paths06 = df06.path.apply(lambda x:'./trec06p'+x[2:])\n",
    "email_id06 = df06.path.apply(lambda x:x[8:]) \n",
    "spam06 = df06.spam.apply(lambda x:1 if x=='spam' else 0)"
   ]
  },
  {
   "cell_type": "code",
   "execution_count": 76,
   "metadata": {},
   "outputs": [],
   "source": [
    "DataTable06 = pd.DataFrame(np.zeros(shape=(len(email_id),8)),columns=['email_id','parts','attachments','html','subject','body','links','spam'])\n",
    "for i in range(len(paths06)):\n",
    "    p = paths06[i]\n",
    "    row = [email_id06[i]] + getContent(p) + [spam06[i]]\n",
    "    DataTable06.loc[i,:] = row"
   ]
  },
  {
   "cell_type": "code",
   "execution_count": 77,
   "metadata": {
    "scrolled": true
   },
   "outputs": [
    {
     "data": {
      "text/html": [
       "<div>\n",
       "<style scoped>\n",
       "    .dataframe tbody tr th:only-of-type {\n",
       "        vertical-align: middle;\n",
       "    }\n",
       "\n",
       "    .dataframe tbody tr th {\n",
       "        vertical-align: top;\n",
       "    }\n",
       "\n",
       "    .dataframe thead th {\n",
       "        text-align: right;\n",
       "    }\n",
       "</style>\n",
       "<table border=\"1\" class=\"dataframe\">\n",
       "  <thead>\n",
       "    <tr style=\"text-align: right;\">\n",
       "      <th></th>\n",
       "      <th>email_id</th>\n",
       "      <th>parts</th>\n",
       "      <th>attachments</th>\n",
       "      <th>html</th>\n",
       "      <th>subject</th>\n",
       "      <th>body</th>\n",
       "      <th>links</th>\n",
       "      <th>spam</th>\n",
       "    </tr>\n",
       "  </thead>\n",
       "  <tbody>\n",
       "    <tr>\n",
       "      <td>0</td>\n",
       "      <td>000/000</td>\n",
       "      <td>1.0</td>\n",
       "      <td>0.0</td>\n",
       "      <td>0.0</td>\n",
       "      <td>new Catholic mailing list now up and running</td>\n",
       "      <td>The mailing list I queried about a few weeks a...</td>\n",
       "      <td>0.0</td>\n",
       "      <td>0.0</td>\n",
       "    </tr>\n",
       "    <tr>\n",
       "      <td>1</td>\n",
       "      <td>000/001</td>\n",
       "      <td>2.0</td>\n",
       "      <td>0.0</td>\n",
       "      <td>0.0</td>\n",
       "      <td>re[12]:</td>\n",
       "      <td>Content-Type: text/plain;Content-Transfer-Enco...</td>\n",
       "      <td>1.0</td>\n",
       "      <td>1.0</td>\n",
       "    </tr>\n",
       "    <tr>\n",
       "      <td>2</td>\n",
       "      <td>000/002</td>\n",
       "      <td>1.0</td>\n",
       "      <td>0.0</td>\n",
       "      <td>0.0</td>\n",
       "      <td>Take a moment to explore this.</td>\n",
       "      <td>Academic Qualifications available from prestig...</td>\n",
       "      <td>0.0</td>\n",
       "      <td>1.0</td>\n",
       "    </tr>\n",
       "    <tr>\n",
       "      <td>3</td>\n",
       "      <td>000/003</td>\n",
       "      <td>1.0</td>\n",
       "      <td>0.0</td>\n",
       "      <td>0.0</td>\n",
       "      <td>Greetings</td>\n",
       "      <td>Greetings all.  This is to verify your subscri...</td>\n",
       "      <td>0.0</td>\n",
       "      <td>0.0</td>\n",
       "    </tr>\n",
       "    <tr>\n",
       "      <td>4</td>\n",
       "      <td>000/004</td>\n",
       "      <td>3.0</td>\n",
       "      <td>0.0</td>\n",
       "      <td>1.0</td>\n",
       "      <td>LOANS @ 3.17% (27 term)</td>\n",
       "      <td>Content-Type: text/html; charset=ISO-8859-1Con...</td>\n",
       "      <td>1.0</td>\n",
       "      <td>1.0</td>\n",
       "    </tr>\n",
       "    <tr>\n",
       "      <td>...</td>\n",
       "      <td>...</td>\n",
       "      <td>...</td>\n",
       "      <td>...</td>\n",
       "      <td>...</td>\n",
       "      <td>...</td>\n",
       "      <td>...</td>\n",
       "      <td>...</td>\n",
       "      <td>...</td>\n",
       "    </tr>\n",
       "    <tr>\n",
       "      <td>37817</td>\n",
       "      <td>126/017</td>\n",
       "      <td>1.0</td>\n",
       "      <td>0.0</td>\n",
       "      <td>0.0</td>\n",
       "      <td>RE: Watcher daily news</td>\n",
       "      <td>Great News Expec ted!Infinex Ventures Inc. (IN...</td>\n",
       "      <td>0.0</td>\n",
       "      <td>1.0</td>\n",
       "    </tr>\n",
       "    <tr>\n",
       "      <td>37818</td>\n",
       "      <td>126/018</td>\n",
       "      <td>1.0</td>\n",
       "      <td>0.0</td>\n",
       "      <td>0.0</td>\n",
       "      <td>RE: Number 1 market Picks</td>\n",
       "      <td>The OIL sector is going crazy. This is our wee...</td>\n",
       "      <td>0.0</td>\n",
       "      <td>1.0</td>\n",
       "    </tr>\n",
       "    <tr>\n",
       "      <td>37819</td>\n",
       "      <td>126/019</td>\n",
       "      <td>1.0</td>\n",
       "      <td>0.0</td>\n",
       "      <td>0.0</td>\n",
       "      <td>All products for your health!</td>\n",
       "      <td>http://vdtobj.docscan.info/?23759301Suffering ...</td>\n",
       "      <td>2.0</td>\n",
       "      <td>1.0</td>\n",
       "    </tr>\n",
       "    <tr>\n",
       "      <td>37820</td>\n",
       "      <td>126/020</td>\n",
       "      <td>1.0</td>\n",
       "      <td>0.0</td>\n",
       "      <td>0.0</td>\n",
       "      <td>Its here, now.</td>\n",
       "      <td>U N I V E R S I T Y  D I P L O M A SDo you wan...</td>\n",
       "      <td>0.0</td>\n",
       "      <td>1.0</td>\n",
       "    </tr>\n",
       "    <tr>\n",
       "      <td>37821</td>\n",
       "      <td>126/021</td>\n",
       "      <td>3.0</td>\n",
       "      <td>0.0</td>\n",
       "      <td>1.0</td>\n",
       "      <td>This diet plan is over the roof</td>\n",
       "      <td>Content-Type: text/html; charset=ISO-8859-1Con...</td>\n",
       "      <td>1.0</td>\n",
       "      <td>1.0</td>\n",
       "    </tr>\n",
       "  </tbody>\n",
       "</table>\n",
       "<p>37822 rows × 8 columns</p>\n",
       "</div>"
      ],
      "text/plain": [
       "      email_id  parts  attachments  html  \\\n",
       "0      000/000    1.0          0.0   0.0   \n",
       "1      000/001    2.0          0.0   0.0   \n",
       "2      000/002    1.0          0.0   0.0   \n",
       "3      000/003    1.0          0.0   0.0   \n",
       "4      000/004    3.0          0.0   1.0   \n",
       "...        ...    ...          ...   ...   \n",
       "37817  126/017    1.0          0.0   0.0   \n",
       "37818  126/018    1.0          0.0   0.0   \n",
       "37819  126/019    1.0          0.0   0.0   \n",
       "37820  126/020    1.0          0.0   0.0   \n",
       "37821  126/021    3.0          0.0   1.0   \n",
       "\n",
       "                                            subject  \\\n",
       "0      new Catholic mailing list now up and running   \n",
       "1                                           re[12]:   \n",
       "2                    Take a moment to explore this.   \n",
       "3                                         Greetings   \n",
       "4                           LOANS @ 3.17% (27 term)   \n",
       "...                                             ...   \n",
       "37817                        RE: Watcher daily news   \n",
       "37818                     RE: Number 1 market Picks   \n",
       "37819                 All products for your health!   \n",
       "37820                                Its here, now.   \n",
       "37821               This diet plan is over the roof   \n",
       "\n",
       "                                                    body  links  spam  \n",
       "0      The mailing list I queried about a few weeks a...    0.0   0.0  \n",
       "1      Content-Type: text/plain;Content-Transfer-Enco...    1.0   1.0  \n",
       "2      Academic Qualifications available from prestig...    0.0   1.0  \n",
       "3      Greetings all.  This is to verify your subscri...    0.0   0.0  \n",
       "4      Content-Type: text/html; charset=ISO-8859-1Con...    1.0   1.0  \n",
       "...                                                  ...    ...   ...  \n",
       "37817  Great News Expec ted!Infinex Ventures Inc. (IN...    0.0   1.0  \n",
       "37818  The OIL sector is going crazy. This is our wee...    0.0   1.0  \n",
       "37819  http://vdtobj.docscan.info/?23759301Suffering ...    2.0   1.0  \n",
       "37820  U N I V E R S I T Y  D I P L O M A SDo you wan...    0.0   1.0  \n",
       "37821  Content-Type: text/html; charset=ISO-8859-1Con...    1.0   1.0  \n",
       "\n",
       "[37822 rows x 8 columns]"
      ]
     },
     "execution_count": 77,
     "metadata": {},
     "output_type": "execute_result"
    }
   ],
   "source": [
    "DataTable06"
   ]
  },
  {
   "cell_type": "code",
   "execution_count": null,
   "metadata": {},
   "outputs": [],
   "source": [
    "df06 = DataTable06"
   ]
  },
  {
   "cell_type": "code",
   "execution_count": null,
   "metadata": {},
   "outputs": [],
   "source": [
    "#combined\n",
    "cv = CountVectorizer()\n",
    "train_subject06 = pd.DataFrame([' ' if x is None else x.lower() for x in df06.loc[:,'subject']])\n",
    "train06 = cv.fit_transform(np.array(train_subject06+ ' '+df06.loc[:,'body']))\n",
    "\n",
    "model = MultinomialNB()\n",
    "model.fit(train06, spam06)\n",
    "np.mean(model.predict(train06) == spam06)"
   ]
  },
  {
   "cell_type": "code",
   "execution_count": null,
   "metadata": {},
   "outputs": [],
   "source": [
    "score06 = cross_val_score(model,train06,spam06,cv=5,scoring='roc_auc')\n",
    "auc06=score06.mean()\n",
    "print(\"AUC\",auc06)"
   ]
  }
 ],
 "metadata": {
  "kernelspec": {
   "display_name": "Python 3",
   "language": "python",
   "name": "python3"
  },
  "language_info": {
   "codemirror_mode": {
    "name": "ipython",
    "version": 3
   },
   "file_extension": ".py",
   "mimetype": "text/x-python",
   "name": "python",
   "nbconvert_exporter": "python",
   "pygments_lexer": "ipython3",
   "version": "3.7.4"
  }
 },
 "nbformat": 4,
 "nbformat_minor": 2
}
